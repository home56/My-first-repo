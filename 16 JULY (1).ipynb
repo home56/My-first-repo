{
 "cells": [
  {
   "cell_type": "markdown",
   "id": "3d089624",
   "metadata": {},
   "source": [
    "# LOOPS"
   ]
  },
  {
   "cell_type": "markdown",
   "id": "7076262e",
   "metadata": {},
   "source": [
    "loops in python"
   ]
  },
  {
   "cell_type": "code",
   "execution_count": 1,
   "id": "49f28082",
   "metadata": {},
   "outputs": [
    {
     "name": "stdout",
     "output_type": "stream",
     "text": [
      "0\n",
      "1\n",
      "2\n",
      "3\n",
      "4\n"
     ]
    }
   ],
   "source": [
    "#initilization\n",
    "i=0\n",
    "#condition\n",
    "while(i<5):\n",
    "    print(i)\n",
    "    i=i+1  #increment\n"
   ]
  },
  {
   "cell_type": "code",
   "execution_count": 4,
   "id": "219e0efe",
   "metadata": {},
   "outputs": [
    {
     "name": "stdout",
     "output_type": "stream",
     "text": [
      "0\n",
      "1\n",
      "2\n",
      "3\n",
      "4\n",
      "5\n",
      "6\n"
     ]
    }
   ],
   "source": [
    "i=0\n",
    "\n",
    "\n",
    "while(i<7):\n",
    "    print(i)\n",
    "    i=i+1  \n",
    "          "
   ]
  },
  {
   "cell_type": "code",
   "execution_count": 8,
   "id": "ee886d5c",
   "metadata": {},
   "outputs": [
    {
     "name": "stdout",
     "output_type": "stream",
     "text": [
      "value of i= 0\n",
      "value of i= 2\n",
      "value of i= 4\n",
      "value of i= 6\n"
     ]
    }
   ],
   "source": [
    "i=0\n",
    "while(i<8):\n",
    "    print('value of i=',i)\n",
    "    i=i+2"
   ]
  },
  {
   "cell_type": "code",
   "execution_count": 9,
   "id": "a1c657d5",
   "metadata": {},
   "outputs": [
    {
     "name": "stdout",
     "output_type": "stream",
     "text": [
      "2\n",
      "5\n",
      "8\n",
      "11\n",
      "14\n",
      "17\n",
      "20\n",
      "23\n"
     ]
    }
   ],
   "source": [
    "i=2\n",
    "while(i<24):\n",
    "    print(i)\n",
    "    i=i+3"
   ]
  },
  {
   "cell_type": "code",
   "execution_count": 11,
   "id": "5de82ccf",
   "metadata": {},
   "outputs": [
    {
     "name": "stdout",
     "output_type": "stream",
     "text": [
      "2\n",
      "10\n",
      "18\n",
      "26\n",
      "34\n",
      "42\n",
      "50\n",
      "58\n",
      "66\n",
      "74\n",
      "82\n",
      "90\n",
      "98\n",
      "106\n",
      "114\n"
     ]
    }
   ],
   "source": [
    "j=1\n",
    "while(j<60):\n",
    "    print(2*j)\n",
    "    j=j+4"
   ]
  },
  {
   "cell_type": "code",
   "execution_count": 12,
   "id": "e6a33d01",
   "metadata": {},
   "outputs": [
    {
     "name": "stdout",
     "output_type": "stream",
     "text": [
      "6\n",
      "9\n",
      "12\n",
      "15\n",
      "18\n",
      "21\n",
      "24\n",
      "27\n",
      "30\n",
      "33\n",
      "36\n",
      "39\n",
      "42\n",
      "45\n",
      "48\n",
      "51\n",
      "54\n",
      "57\n"
     ]
    }
   ],
   "source": [
    "m=2\n",
    "while(m<20):\n",
    "    print(m*3)\n",
    "    m=m+1"
   ]
  },
  {
   "cell_type": "code",
   "execution_count": null,
   "id": "9e26fe8c",
   "metadata": {},
   "outputs": [],
   "source": [
    "p=1\n",
    "s=int(input(\"entre  value of table\"))\n",
    "while(p<=10):\n",
    "    print(s*2)\n",
    "    p=p+1"
   ]
  },
  {
   "cell_type": "code",
   "execution_count": null,
   "id": "23d25a93",
   "metadata": {},
   "outputs": [],
   "source": []
  },
  {
   "cell_type": "code",
   "execution_count": null,
   "id": "c5d5ed92",
   "metadata": {},
   "outputs": [],
   "source": []
  }
 ],
 "metadata": {
  "kernelspec": {
   "display_name": "Python 3 (ipykernel)",
   "language": "python",
   "name": "python3"
  },
  "language_info": {
   "codemirror_mode": {
    "name": "ipython",
    "version": 3
   },
   "file_extension": ".py",
   "mimetype": "text/x-python",
   "name": "python",
   "nbconvert_exporter": "python",
   "pygments_lexer": "ipython3",
   "version": "3.9.12"
  }
 },
 "nbformat": 4,
 "nbformat_minor": 5
}
